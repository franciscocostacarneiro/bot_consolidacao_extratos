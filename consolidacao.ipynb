{
 "cells": [
  {
   "cell_type": "code",
   "execution_count": 1,
   "metadata": {},
   "outputs": [
    {
     "name": "stdout",
     "output_type": "stream",
     "text": [
      "Requirement already satisfied: pandas in c:\\users\\chico\\projetos_automacao\\alldax\\consolidacao_planilhas\\.venv\\lib\\site-packages (2.2.1)\n",
      "Requirement already satisfied: openpyxl in c:\\users\\chico\\projetos_automacao\\alldax\\consolidacao_planilhas\\.venv\\lib\\site-packages (3.1.2)\n",
      "Requirement already satisfied: numpy<2,>=1.22.4 in c:\\users\\chico\\projetos_automacao\\alldax\\consolidacao_planilhas\\.venv\\lib\\site-packages (from pandas) (1.26.4)\n",
      "Requirement already satisfied: python-dateutil>=2.8.2 in c:\\users\\chico\\projetos_automacao\\alldax\\consolidacao_planilhas\\.venv\\lib\\site-packages (from pandas) (2.9.0.post0)\n",
      "Requirement already satisfied: pytz>=2020.1 in c:\\users\\chico\\projetos_automacao\\alldax\\consolidacao_planilhas\\.venv\\lib\\site-packages (from pandas) (2024.1)\n",
      "Requirement already satisfied: tzdata>=2022.7 in c:\\users\\chico\\projetos_automacao\\alldax\\consolidacao_planilhas\\.venv\\lib\\site-packages (from pandas) (2024.1)\n",
      "Requirement already satisfied: et-xmlfile in c:\\users\\chico\\projetos_automacao\\alldax\\consolidacao_planilhas\\.venv\\lib\\site-packages (from openpyxl) (1.1.0)\n",
      "Requirement already satisfied: six>=1.5 in c:\\users\\chico\\projetos_automacao\\alldax\\consolidacao_planilhas\\.venv\\lib\\site-packages (from python-dateutil>=2.8.2->pandas) (1.16.0)\n",
      "Requirement already satisfied: pandas in c:\\users\\chico\\projetos_automacao\\alldax\\consolidacao_planilhas\\.venv\\lib\\site-packages (2.2.1)\n",
      "Requirement already satisfied: numpy<2,>=1.22.4 in c:\\users\\chico\\projetos_automacao\\alldax\\consolidacao_planilhas\\.venv\\lib\\site-packages (from pandas) (1.26.4)\n",
      "Requirement already satisfied: python-dateutil>=2.8.2 in c:\\users\\chico\\projetos_automacao\\alldax\\consolidacao_planilhas\\.venv\\lib\\site-packages (from pandas) (2.9.0.post0)\n",
      "Requirement already satisfied: pytz>=2020.1 in c:\\users\\chico\\projetos_automacao\\alldax\\consolidacao_planilhas\\.venv\\lib\\site-packages (from pandas) (2024.1)\n",
      "Requirement already satisfied: tzdata>=2022.7 in c:\\users\\chico\\projetos_automacao\\alldax\\consolidacao_planilhas\\.venv\\lib\\site-packages (from pandas) (2024.1)\n",
      "Requirement already satisfied: six>=1.5 in c:\\users\\chico\\projetos_automacao\\alldax\\consolidacao_planilhas\\.venv\\lib\\site-packages (from python-dateutil>=2.8.2->pandas) (1.16.0)\n",
      "Requirement already satisfied: openpyxl in c:\\users\\chico\\projetos_automacao\\alldax\\consolidacao_planilhas\\.venv\\lib\\site-packages (3.1.2)\n",
      "Requirement already satisfied: et-xmlfile in c:\\users\\chico\\projetos_automacao\\alldax\\consolidacao_planilhas\\.venv\\lib\\site-packages (from openpyxl) (1.1.0)\n",
      "Requirement already satisfied: pandas in c:\\users\\chico\\projetos_automacao\\alldax\\consolidacao_planilhas\\.venv\\lib\\site-packages (2.2.1)\n",
      "Requirement already satisfied: xlrd in c:\\users\\chico\\projetos_automacao\\alldax\\consolidacao_planilhas\\.venv\\lib\\site-packages (2.0.1)\n",
      "Requirement already satisfied: numpy<2,>=1.22.4 in c:\\users\\chico\\projetos_automacao\\alldax\\consolidacao_planilhas\\.venv\\lib\\site-packages (from pandas) (1.26.4)\n",
      "Requirement already satisfied: python-dateutil>=2.8.2 in c:\\users\\chico\\projetos_automacao\\alldax\\consolidacao_planilhas\\.venv\\lib\\site-packages (from pandas) (2.9.0.post0)\n",
      "Requirement already satisfied: pytz>=2020.1 in c:\\users\\chico\\projetos_automacao\\alldax\\consolidacao_planilhas\\.venv\\lib\\site-packages (from pandas) (2024.1)\n",
      "Requirement already satisfied: tzdata>=2022.7 in c:\\users\\chico\\projetos_automacao\\alldax\\consolidacao_planilhas\\.venv\\lib\\site-packages (from pandas) (2024.1)\n",
      "Requirement already satisfied: six>=1.5 in c:\\users\\chico\\projetos_automacao\\alldax\\consolidacao_planilhas\\.venv\\lib\\site-packages (from python-dateutil>=2.8.2->pandas) (1.16.0)\n",
      "Requirement already satisfied: pyautogui in c:\\users\\chico\\projetos_automacao\\alldax\\consolidacao_planilhas\\.venv\\lib\\site-packages (0.9.54)\n",
      "Requirement already satisfied: pymsgbox in c:\\users\\chico\\projetos_automacao\\alldax\\consolidacao_planilhas\\.venv\\lib\\site-packages (from pyautogui) (1.0.9)\n",
      "Requirement already satisfied: pytweening>=1.0.4 in c:\\users\\chico\\projetos_automacao\\alldax\\consolidacao_planilhas\\.venv\\lib\\site-packages (from pyautogui) (1.2.0)\n",
      "Requirement already satisfied: pyscreeze>=0.1.21 in c:\\users\\chico\\projetos_automacao\\alldax\\consolidacao_planilhas\\.venv\\lib\\site-packages (from pyautogui) (0.1.30)\n",
      "Requirement already satisfied: pygetwindow>=0.0.5 in c:\\users\\chico\\projetos_automacao\\alldax\\consolidacao_planilhas\\.venv\\lib\\site-packages (from pyautogui) (0.0.9)\n",
      "Requirement already satisfied: mouseinfo in c:\\users\\chico\\projetos_automacao\\alldax\\consolidacao_planilhas\\.venv\\lib\\site-packages (from pyautogui) (0.1.3)\n",
      "Requirement already satisfied: pyrect in c:\\users\\chico\\projetos_automacao\\alldax\\consolidacao_planilhas\\.venv\\lib\\site-packages (from pygetwindow>=0.0.5->pyautogui) (0.2.0)\n",
      "Requirement already satisfied: Pillow>=9.2.0 in c:\\users\\chico\\projetos_automacao\\alldax\\consolidacao_planilhas\\.venv\\lib\\site-packages (from pyscreeze>=0.1.21->pyautogui) (10.2.0)\n",
      "Requirement already satisfied: pyperclip in c:\\users\\chico\\projetos_automacao\\alldax\\consolidacao_planilhas\\.venv\\lib\\site-packages (from mouseinfo->pyautogui) (1.8.2)\n"
     ]
    }
   ],
   "source": [
    "# 1) Instalando os requerimentos necessários\n",
    "!pip install pandas openpyxl\n",
    "!pip install pandas\n",
    "!pip install openpyxl\n",
    "!pip install pandas xlrd\n",
    "!pip install pyautogui"
   ]
  },
  {
   "cell_type": "code",
   "execution_count": 2,
   "metadata": {},
   "outputs": [],
   "source": [
    "# 2) Imports and requirements\n",
    "import pandas as pd\n",
    "from openpyxl import load_workbook\n",
    "import pyautogui\n",
    "import os"
   ]
  },
  {
   "cell_type": "code",
   "execution_count": 3,
   "metadata": {},
   "outputs": [],
   "source": [
    "# 3) Solicitando o path do diretório na máquina local do usuário \n",
    "diretorio_raiz = pyautogui.prompt('Digite o caminho do diretório raiz onde estão as planilhas com as informações a serem consolidadas:')"
   ]
  },
  {
   "cell_type": "code",
   "execution_count": 4,
   "metadata": {},
   "outputs": [
    {
     "name": "stdout",
     "output_type": "stream",
     "text": [
      "O item \"02-10-2023\" é um diretório.\n",
      "O item \"03-10-2023\" é um diretório.\n",
      "O item \"04-10-2023\" é um diretório.\n",
      "O item \"05-10-2023\" é um diretório.\n",
      "O item \"06-10-2023\" é um diretório.\n",
      "O item \"09-10-2023\" é um diretório.\n",
      "O item \"10-10-2023\" é um diretório.\n",
      "O item \"11-10-2023\" é um diretório.\n",
      "O item \"13-10-2023\" é um diretório.\n",
      "O item \"16-10-2023\" é um diretório.\n",
      "O item \"17-10-2023\" é um diretório.\n",
      "O item \"18-10-2023\" é um diretório.\n",
      "O item \"19-10-2023\" é um diretório.\n",
      "O item \"20-10-2023\" é um diretório.\n",
      "O item \"23-10-2023\" é um diretório.\n",
      "O item \"24-10-2023\" é um diretório.\n",
      "O item \"25-10-2023\" é um diretório.\n",
      "O item \"26-10-2023\" é um diretório.\n",
      "O item \"27-10-2023\" é um diretório.\n",
      "O item \"30-10-2023\" é um diretório.\n",
      "O item \"31-10-2023\" é um diretório.\n"
     ]
    }
   ],
   "source": [
    "# 4) Listando, para conferência, as pastas encontradas no diretório e que serão objeto de scrap dos dados.\n",
    "\n",
    "# Listando todos os itens no diretório\n",
    "itens = os.listdir(diretorio_raiz)\n",
    "\n",
    "for item in itens:\n",
    "    caminho_completo = os.path.join(diretorio_raiz, item)\n",
    "    \n",
    "    # Verificando se o item é um diretório (pasta)\n",
    "    if os.path.isdir(caminho_completo):\n",
    "        print(f'O item \"{item}\" é um diretório.')\n",
    "        # Aqui você pode adicionar o código para tratar o diretório, como listar subdiret"
   ]
  },
  {
   "cell_type": "code",
   "execution_count": 5,
   "metadata": {},
   "outputs": [
    {
     "name": "stdout",
     "output_type": "stream",
     "text": [
      "Erro ao processar o arquivo C:\\Users\\chico\\Projetos_Automacao\\Alldax\\Consolidacao_planilhas\\planilhasEMIBM-main\\arquivos\\MOVIMENTO FINANCEIRO\\20-10-2023\\54508-9 - SISPAG - SALARIO.xls: Excel file format cannot be determined, you must specify an engine manually.\n",
      "Erro ao processar o arquivo C:\\Users\\chico\\Projetos_Automacao\\Alldax\\Consolidacao_planilhas\\planilhasEMIBM-main\\arquivos\\MOVIMENTO FINANCEIRO\\25-10-2023\\54508-9 - SISPAG - SALARIO.xls: Excel file format cannot be determined, you must specify an engine manually.\n",
      "Erro ao processar o arquivo C:\\Users\\chico\\Projetos_Automacao\\Alldax\\Consolidacao_planilhas\\planilhasEMIBM-main\\arquivos\\MOVIMENTO FINANCEIRO\\26-10-2023\\SISPAG SALARIO.xls: Excel file format cannot be determined, you must specify an engine manually.\n",
      "Erro ao processar o arquivo C:\\Users\\chico\\Projetos_Automacao\\Alldax\\Consolidacao_planilhas\\planilhasEMIBM-main\\arquivos\\MOVIMENTO FINANCEIRO\\27-10-2023\\54508-9 - SISPAG SALÁRIO.xls: Excel file format cannot be determined, you must specify an engine manually.\n",
      "Planilha de consolidação atualizada com sucesso.\n"
     ]
    }
   ],
   "source": [
    "# 5) Varredura e captura dos dados\n",
    "\n",
    "# Caminho do diretório raiz\n",
    "diretorio_raiz = fr'{diretorio_raiz}'\n",
    "\n",
    "# Carregar ou inicializar o DataFrame de consolidação\n",
    "caminho_consolidacao = os.path.join(diretorio_raiz, 'consolidacao.xlsx')\n",
    "if os.path.isfile(caminho_consolidacao):\n",
    "    df_consolidado = pd.read_excel(caminho_consolidacao, engine='openpyxl')\n",
    "else:\n",
    "    # Iniciamos o DataFrame com a coluna para o nome da planilha para a filtragem dos dados para conciliação e lançamentos\n",
    "    df_consolidado = pd.DataFrame(columns=['Nome da Planilha'])\n",
    "\n",
    "# Processar cada pasta e arquivo\n",
    "for pasta in os.listdir(diretorio_raiz):\n",
    "    caminho_pasta = os.path.join(diretorio_raiz, pasta)\n",
    "    if os.path.isdir(caminho_pasta):\n",
    "        for arquivo in os.listdir(caminho_pasta):\n",
    "            if arquivo.endswith(('.xls', '.xlsx')):\n",
    "                caminho_arquivo = os.path.join(caminho_pasta, arquivo)\n",
    "                try:\n",
    "                    # Ler o arquivo Excel\n",
    "                    df_arquivo = pd.read_excel(caminho_arquivo)\n",
    "                    # Filtrar as linhas onde a coluna \"F\" (índice 5) está preenchida\n",
    "                    df_arquivo = df_arquivo[df_arquivo.iloc[:, 5].notna()].reset_index(drop=True)\n",
    "                    \n",
    "                    # Adicionar o nome da planilha como a primeira coluna\n",
    "                    df_arquivo.insert(0, 'Nome da Planilha', arquivo)\n",
    "                    \n",
    "                    # Concatenar com o DataFrame de consolidação\n",
    "                    df_consolidado = pd.concat([df_consolidado, df_arquivo], ignore_index=True)\n",
    "                except Exception as e:\n",
    "                    print(f'Erro ao processar o arquivo {caminho_arquivo}: {e}')\n",
    "\n",
    "# Remover linhas vazias baseadas na coluna \"F\"\n",
    "df_consolidado = df_consolidado[df_consolidado.iloc[:, 1].notna()].reset_index(drop=True)  # Ajustado para índice 1, que agora é a coluna \"F\"\n",
    "\n",
    "# Salvar o DataFrame atualizado\n",
    "df_consolidado.to_excel(caminho_consolidacao, index=False, engine='openpyxl')\n",
    "\n",
    "print('Planilha de consolidação atualizada com sucesso.')\n"
   ]
  },
  {
   "cell_type": "code",
   "execution_count": 6,
   "metadata": {},
   "outputs": [
    {
     "name": "stderr",
     "output_type": "stream",
     "text": [
      "C:\\Users\\chico\\AppData\\Local\\Temp\\ipykernel_29600\\4181585307.py:27: FutureWarning: The behavior of DataFrame concatenation with empty or all-NA entries is deprecated. In a future version, this will no longer exclude empty or all-NA columns when determining the result dtypes. To retain the old behavior, exclude the relevant entries before the concat operation.\n",
      "  df_consolidado = pd.concat([df_consolidado, df_arquivo], ignore_index=True)\n",
      "C:\\Users\\chico\\AppData\\Local\\Temp\\ipykernel_29600\\4181585307.py:27: FutureWarning: The behavior of DataFrame concatenation with empty or all-NA entries is deprecated. In a future version, this will no longer exclude empty or all-NA columns when determining the result dtypes. To retain the old behavior, exclude the relevant entries before the concat operation.\n",
      "  df_consolidado = pd.concat([df_consolidado, df_arquivo], ignore_index=True)\n"
     ]
    },
    {
     "name": "stdout",
     "output_type": "stream",
     "text": [
      "Erro ao processar o arquivo C:\\Users\\chico\\Projetos_Automacao\\Alldax\\Consolidacao_planilhas\\planilhasEMIBM-main\\arquivos\\MOVIMENTO FINANCEIRO\\20-10-2023\\54508-9 - SISPAG - SALARIO.xls: Excel file format cannot be determined, you must specify an engine manually.\n",
      "Erro ao processar o arquivo C:\\Users\\chico\\Projetos_Automacao\\Alldax\\Consolidacao_planilhas\\planilhasEMIBM-main\\arquivos\\MOVIMENTO FINANCEIRO\\25-10-2023\\54508-9 - SISPAG - SALARIO.xls: Excel file format cannot be determined, you must specify an engine manually.\n",
      "Erro ao processar o arquivo C:\\Users\\chico\\Projetos_Automacao\\Alldax\\Consolidacao_planilhas\\planilhasEMIBM-main\\arquivos\\MOVIMENTO FINANCEIRO\\26-10-2023\\SISPAG SALARIO.xls: Excel file format cannot be determined, you must specify an engine manually.\n",
      "Erro ao processar o arquivo C:\\Users\\chico\\Projetos_Automacao\\Alldax\\Consolidacao_planilhas\\planilhasEMIBM-main\\arquivos\\MOVIMENTO FINANCEIRO\\27-10-2023\\54508-9 - SISPAG SALÁRIO.xls: Excel file format cannot be determined, you must specify an engine manually.\n",
      "Planilha de consolidação atualizada com sucesso.\n"
     ]
    }
   ],
   "source": [
    "#CÓDIGO ENCAPSULADO PARA AUTOMAÇÃO DE ETL E AUTOMAÇÃO EM TERMINAL - ABAIXO EU APENAS ENCAPSULEI PARA AUTOMAÇÃO E TRANSFORMAÇÃO EM EXECUTÁVEL\n",
    "#NUMA PIPELINE - CRIADO CONSOLIDACAO.PY PARA EXECUÇÃO EM TERMINAL\n",
    "\n",
    "import pandas as pd\n",
    "import os\n",
    "import pyautogui\n",
    "\n",
    "def pedir_diretorio_raiz():\n",
    "    return pyautogui.prompt('Digite o caminho do diretório raiz onde estão as planilhas com as informações a serem consolidadas:')\n",
    "\n",
    "def processar_arquivos(diretorio_raiz):\n",
    "    caminho_consolidacao = os.path.join(diretorio_raiz, 'consolidacao.xlsx')\n",
    "    \n",
    "    if os.path.isfile(caminho_consolidacao):\n",
    "        df_consolidado = pd.read_excel(caminho_consolidacao, engine='openpyxl')\n",
    "    else:\n",
    "        df_consolidado = pd.DataFrame(columns=['Nome da Planilha'])\n",
    "    \n",
    "    for pasta in os.listdir(diretorio_raiz):\n",
    "        caminho_pasta = os.path.join(diretorio_raiz, pasta)\n",
    "        if os.path.isdir(caminho_pasta):\n",
    "            for arquivo in os.listdir(caminho_pasta):\n",
    "                if arquivo.endswith(('.xls', '.xlsx')):\n",
    "                    df_arquivo = ler_e_filtrar_arquivo(caminho_pasta, arquivo)\n",
    "                    if df_arquivo is not None:\n",
    "                        df_arquivo.insert(0, 'Nome da Planilha', arquivo)\n",
    "                        df_consolidado = pd.concat([df_consolidado, df_arquivo], ignore_index=True)\n",
    "    \n",
    "    df_consolidado.to_excel(caminho_consolidacao, index=False, engine='openpyxl')\n",
    "    print('Planilha de consolidação atualizada com sucesso.')\n",
    "\n",
    "def ler_e_filtrar_arquivo(caminho_pasta, arquivo):\n",
    "    caminho_arquivo = os.path.join(caminho_pasta, arquivo)\n",
    "    try:\n",
    "        df_arquivo = pd.read_excel(caminho_arquivo)\n",
    "        return df_arquivo[df_arquivo.iloc[:, 5].notna()].reset_index(drop=True)\n",
    "    except Exception as e:\n",
    "        print(f'Erro ao processar o arquivo {caminho_arquivo}: {e}')\n",
    "        return None\n",
    "\n",
    "if __name__ == '__main__':\n",
    "    diretorio_raiz = pedir_diretorio_raiz()\n",
    "    if diretorio_raiz:\n",
    "        processar_arquivos(diretorio_raiz)"
   ]
  },
  {
   "cell_type": "code",
   "execution_count": 53,
   "metadata": {},
   "outputs": [],
   "source": [
    "!pip freeze > requirements.txt"
   ]
  }
 ],
 "metadata": {
  "kernelspec": {
   "display_name": ".venv",
   "language": "python",
   "name": "python3"
  },
  "language_info": {
   "codemirror_mode": {
    "name": "ipython",
    "version": 3
   },
   "file_extension": ".py",
   "mimetype": "text/x-python",
   "name": "python",
   "nbconvert_exporter": "python",
   "pygments_lexer": "ipython3",
   "version": "3.10.4"
  }
 },
 "nbformat": 4,
 "nbformat_minor": 2
}
